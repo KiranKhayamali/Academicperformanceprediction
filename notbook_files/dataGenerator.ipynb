{
 "cells": [
  {
   "cell_type": "markdown",
   "metadata": {},
   "source": [
    "<h1>Please Do Not Run this Code </h1>"
   ]
  },
  {
   "cell_type": "code",
   "execution_count": 1,
   "metadata": {},
   "outputs": [],
   "source": [
    "from faker import Faker\n",
    "import pandas as pd\n",
    "import numpy as np"
   ]
  },
  {
   "cell_type": "code",
   "execution_count": 2,
   "metadata": {},
   "outputs": [],
   "source": [
    "fake = Faker()\n",
    "num_samples = 1000\n",
    "np.random.seed(42)  # For reproducibility"
   ]
  },
  {
   "cell_type": "code",
   "execution_count": 3,
   "metadata": {},
   "outputs": [],
   "source": [
    "data = {\n",
    "    'Student ID': [i for i in range(num_samples)],\n",
    "    'Name': [fake.name() for _ in range(num_samples)],\n",
    "    'Gender': [fake.random_element(elements=(\"Male\", \"Female\")) for _ in range(num_samples)],\n",
    "}"
   ]
  },
  {
   "cell_type": "code",
   "execution_count": 12,
   "metadata": {},
   "outputs": [
    {
     "name": "stdout",
     "output_type": "stream",
     "text": [
      "   Student ID              Name  Gender Parental Support  Previous Grade  \\\n",
      "0           0      Destiny Reid  Female             High       84.834874   \n",
      "1           1      Mark Johnson    Male             High       82.481749   \n",
      "2           2  Robert Rodriguez    Male             High       84.138125   \n",
      "3           3       Frank Smith    Male              Low       53.573659   \n",
      "4           4      Megan Miller    Male           Medium       81.389283   \n",
      "\n",
      "   Study Hours Per Week  Extracurricular Activities  Attendance Rate  \\\n",
      "0             28.827011                           1        71.215053   \n",
      "1             30.367064                           4        68.945005   \n",
      "2             27.493450                           2        70.026189   \n",
      "3              2.287512                           2        52.104180   \n",
      "4             17.222888                           2        77.971785   \n",
      "\n",
      "   Final Grade  \n",
      "0    98.499980  \n",
      "1    99.000000  \n",
      "2    99.000000  \n",
      "3    47.581656  \n",
      "4    91.037102  \n"
     ]
    }
   ],
   "source": [
    "# Generate Parental Support (categorical)\n",
    "data['Parental Support'] = [\n",
    "    fake.random_element(elements=(\"High\", \"Medium\", \"Low\"))\n",
    "    for _ in range(num_samples)\n",
    "]\n",
    "\n",
    "# Generate Previous Grade (based on parental support and some randomness)\n",
    "data['Previous Grade'] = [\n",
    "    np.clip(np.random.normal(loc=85 \n",
    "        if ps == 'High' else 75 if ps == 'Medium' else 50, scale=5), 0, 99)\n",
    "    for ps in data['Parental Support']\n",
    "]\n",
    "\n",
    "# Generate Study Hours Per Week (dependent on parental support and previous grade)\n",
    "data['Study Hours Per Week'] = [\n",
    "    np.clip(np.random.normal(loc=25 if ps == 'High' else 18 if ps == 'Medium' else 12, scale=5), 0, 36)\n",
    "    for ps in data['Parental Support']\n",
    "]\n",
    "\n",
    "# Generate Attendance Rate (influenced by parental support and extracurricular activities)\n",
    "data['Extracurricular Activities'] = [fake.random_int(min=0, max=5) for _ in range(num_samples)]\n",
    "data['Attendance Rate'] = [\n",
    "    np.clip(np.random.normal(loc=80 if ps == 'High' else 70 if ps == 'Medium' else 55, scale=10) - 2*act, 50, 100)\n",
    "    for ps, act in zip(data['Parental Support'], data['Extracurricular Activities'])\n",
    "]\n",
    "\n",
    "# Generate Final Grade (based on all the above factors)\n",
    "final_grades = []\n",
    "for i in range(num_samples):\n",
    "    # Base final grade influenced by previous grade\n",
    "    base_grade = data['Previous Grade'][i] * 0.4\n",
    "    \n",
    "    # Study hours influence\n",
    "    study_hours_influence = data['Study Hours Per Week'][i] * 1.2\n",
    "    \n",
    "    # Attendance influence\n",
    "    attendance_influence = data['Attendance Rate'][i] * 0.3\n",
    "    \n",
    "    # Extracurricular influence (small positive or negative effect depending on how it balances study)\n",
    "    extracurricular_influence = -data['Extracurricular Activities'][i] * 0.5 + 5\n",
    "    \n",
    "    # Parental support influence\n",
    "    parental_support_influence = {\n",
    "        'High': 10,\n",
    "        'Medium': 5,\n",
    "        'Low': 0\n",
    "    }[data['Parental Support'][i]]\n",
    "    \n",
    "    # Random noise\n",
    "    noise = np.random.normal(0, 5)\n",
    "    \n",
    "    # Final grade calculation\n",
    "    final_grade = (base_grade + study_hours_influence + attendance_influence + \n",
    "                   extracurricular_influence + parental_support_influence + noise)\n",
    "    \n",
    "    # Clip final grade to realistic range [0, 100]\n",
    "    final_grade = np.clip(final_grade, 0, 99)\n",
    "    \n",
    "    final_grades.append(final_grade)\n",
    "\n",
    "# Add Final Grades to the dataset\n",
    "data['Final Grade'] = final_grades\n",
    "\n",
    "# Convert to DataFrame\n",
    "df = pd.DataFrame(data)\n",
    "\n",
    "# Display the first few rows\n",
    "print(df.head())"
   ]
  },
  {
   "cell_type": "markdown",
   "metadata": {},
   "source": [
    "<h2>Please change the file name in case if you run it</h2>\n",
    "<p>Original file name is 'data.csv'</p>"
   ]
  },
  {
   "cell_type": "code",
   "execution_count": 10,
   "metadata": {},
   "outputs": [],
   "source": [
    "filename = 'hello'\n",
    "df.to_csv(f'../data/{filename}.csv',index = False)"
   ]
  },
  {
   "cell_type": "code",
   "execution_count": 6,
   "metadata": {},
   "outputs": [],
   "source": [
    "import matplotlib.pyplot as plt"
   ]
  },
  {
   "cell_type": "code",
   "execution_count": 7,
   "metadata": {},
   "outputs": [
    {
     "data": {
      "text/plain": [
       "<matplotlib.collections.PathCollection at 0x7b547ffe0f20>"
      ]
     },
     "execution_count": 7,
     "metadata": {},
     "output_type": "execute_result"
    },
    {
     "data": {
      "image/png": "[encoded data removed]",
      "text/plain": [
       "<Figure size 640x480 with 1 Axes>"
      ]
     },
     "metadata": {},
     "output_type": "display_data"
    }
   ],
   "source": [
    "final = data['Final Grade']\n",
    "previous = data['Previous Grade']\n",
    "support = [\n",
    "    0 if data['Parental Support'][i]== 'Low'\n",
    "    else 1 if data['Parental Support'][i] == 'Medium'\n",
    "    else 2\n",
    "    for i in range(num_samples)]\n",
    "plt.scatter(support,previous)"
   ]
  },
  {
   "cell_type": "code",
   "execution_count": 8,
   "metadata": {},
   "outputs": [
    {
     "data": {
      "text/plain": [
       "<matplotlib.collections.PathCollection at 0x7b547ff83b60>"
      ]
     },
     "execution_count": 8,
     "metadata": {},
     "output_type": "execute_result"
    },
    {
     "data": {
      "image/png": "[encoded data removed]",
      "text/plain": [
       "<Figure size 640x480 with 1 Axes>"
      ]
     },
     "metadata": {},
     "output_type": "display_data"
    }
   ],
   "source": [
    "plt.scatter(support,final)"
   ]
  }
 ],
 "metadata": {
  "kernelspec": {
   "display_name": "venv_predict",
   "language": "python",
   "name": "python3"
  },
  "language_info": {
   "codemirror_mode": {
    "name": "ipython",
    "version": 3
   },
   "file_extension": ".py",
   "mimetype": "text/x-python",
   "name": "python",
   "nbconvert_exporter": "python",
   "pygments_lexer": "ipython3",
   "version": "3.12.3"
  }
 },
 "nbformat": 4,
 "nbformat_minor": 2
}
