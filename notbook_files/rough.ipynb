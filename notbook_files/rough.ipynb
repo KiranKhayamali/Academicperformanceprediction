{
 "cells": [
  {
   "cell_type": "code",
   "execution_count": 1,
   "metadata": {},
   "outputs": [],
   "source": [
    "import numpy as np\n",
    "import pandas as pd\n",
    "import matplotlib.pyplot as plt\n",
    "from sklearn.model_selection import train_test_split\n",
    "import pickle"
   ]
  },
  {
   "cell_type": "code",
   "execution_count": 2,
   "metadata": {},
   "outputs": [
    {
     "name": "stdout",
     "output_type": "stream",
     "text": [
      "   StudentID  Age  Gender  Ethnicity  ParentalEducation  StudyTimeWeekly  \\\n",
      "0       1001   17       1          0                  2        19.833723   \n",
      "1       1002   18       0          0                  1        15.408756   \n",
      "2       1003   15       0          2                  3         4.210570   \n",
      "\n",
      "   Absences  Tutoring  ParentalSupport  Extracurricular  Sports  Music  \\\n",
      "0         7         1                2                0       0      1   \n",
      "1         0         0                1                0       0      0   \n",
      "2        26         0                2                0       0      0   \n",
      "\n",
      "   Volunteering       GPA  GradeClass  \n",
      "0             0  2.929196         2.0  \n",
      "1             0  3.042915         1.0  \n",
      "2             0  0.112602         4.0  \n"
     ]
    }
   ],
   "source": [
    "data = pd.read_csv('../data/Student_performance_data.csv')\n",
    "print(data.head(3))"
   ]
  },
  {
   "cell_type": "code",
   "execution_count": 3,
   "metadata": {},
   "outputs": [
    {
     "data": {
      "text/plain": [
       "\"\\nvariables = ['StudentID','Age','Gender','Ethnicity',\\n    'ParentalEducation','StudyTimeWeekly','Absences',\\n    'Tutoring','ParentalSupport','Extracurricular',\\n    'Sports','Music','Volunteering','GPA','GradeClass']\\n\""
      ]
     },
     "execution_count": 3,
     "metadata": {},
     "output_type": "execute_result"
    }
   ],
   "source": [
    "'''\n",
    "variables = ['StudentID','Age','Gender','Ethnicity',\n",
    "    'ParentalEducation','StudyTimeWeekly','Absences',\n",
    "    'Tutoring','ParentalSupport','Extracurricular',\n",
    "    'Sports','Music','Volunteering','GPA','GradeClass']\n",
    "'''"
   ]
  },
  {
   "cell_type": "code",
   "execution_count": 4,
   "metadata": {},
   "outputs": [
    {
     "name": "stdout",
     "output_type": "stream",
     "text": [
      "   ParentalSupport\n",
      "0                2\n",
      "1                1\n",
      "2                2\n",
      "3                3\n",
      "4                3\n",
      "        GPA\n",
      "0  2.929196\n",
      "1  3.042915\n",
      "2  0.112602\n",
      "3  2.054218\n",
      "4  1.288061\n"
     ]
    }
   ],
   "source": [
    "feature = np.array(['ParentalSupport'])\n",
    "\n",
    "target = np.array(['GPA'])\n",
    "\n",
    "x = data[feature]\n",
    "print(x.head(5))\n",
    "\n",
    "y = data[target]\n",
    "print(y.head(5))"
   ]
  },
  {
   "cell_type": "code",
   "execution_count": 5,
   "metadata": {},
   "outputs": [],
   "source": [
    "#random_state = None gives Random data split everytime executed\n",
    "X,x_test,Y,y_test = train_test_split(x,y,train_size=0.2,random_state= None)\n",
    "x_train,x_cv,y_train,y_cv = train_test_split(X,Y,train_size=0.2,random_state=None)"
   ]
  },
  {
   "cell_type": "code",
   "execution_count": 6,
   "metadata": {},
   "outputs": [
    {
     "data": {
      "text/plain": [
       "Text(0.5, 0, 'ParentalSupport')"
      ]
     },
     "execution_count": 6,
     "metadata": {},
     "output_type": "execute_result"
    },
    {
     "data": {
      "image/png": "[encoded data removed]",
      "text/plain": [
       "<Figure size 640x480 with 1 Axes>"
      ]
     },
     "metadata": {},
     "output_type": "display_data"
    }
   ],
   "source": [
    "plt.scatter(x_train,y_train)\n",
    "plt.ylabel('GPA')\n",
    "plt.xlabel('ParentalSupport')"
   ]
  },
  {
   "cell_type": "markdown",
   "metadata": {},
   "source": [
    "<h1>Linear Regression</h1>"
   ]
  },
  {
   "cell_type": "code",
   "execution_count": 7,
   "metadata": {},
   "outputs": [
    {
     "name": "stdout",
     "output_type": "stream",
     "text": [
      "mean square error: 0.8851490541109736\n",
      "r2 score: 0.006468551656522492\n",
      "score: 0.006468551656522492\n",
      "Predicted: [1.79075406], Actual: 2.289299775238682\n",
      "Predicted: [1.75480053], Actual: 2.16155873707839\n",
      "Predicted: [1.68289347], Actual: 1.0075173084456468\n",
      "Predicted: [1.718847], Actual: 2.478699182829052\n",
      "Predicted: [1.68289347], Actual: 0.4389817405690688\n"
     ]
    }
   ],
   "source": [
    "from sklearn.linear_model import LinearRegression\n",
    "\n",
    "model = LinearRegression()\n",
    "model.fit(x_train,y_train)\n",
    "\n",
    "y_pred = model.predict(x_cv)\n",
    "from sklearn.metrics import mean_squared_error,r2_score\n",
    "\n",
    "mse = mean_squared_error(y_cv,y_pred)\n",
    "r2 = r2_score(y_cv,y_pred)\n",
    "score = model.score(x_cv,y_cv)\n",
    "\n",
    "print(f'mean square error: {mse}')\n",
    "print(f'r2 score: {r2}')\n",
    "print(f'score: {score}')\n",
    "y_pred2 = model.predict(x_test )\n",
    "for i in range(5):\n",
    "    print(f\"Predicted: {y_pred2[i]}, Actual: {y_test['GPA'].iloc[i]}\")\n"
   ]
  },
  {
   "cell_type": "markdown",
   "metadata": {},
   "source": [
    "<h1>Random Forest</h1>"
   ]
  },
  {
   "cell_type": "code",
   "execution_count": 8,
   "metadata": {},
   "outputs": [
    {
     "name": "stdout",
     "output_type": "stream",
     "text": [
      "mean square error: 0.8937348491903836\n",
      "r2 score: -0.003168534188860095\n",
      "score: -0.003168534188860095\n",
      "Predicted: 1.735, Actual: 2.289\n",
      "Predicted: 1.856, Actual: 2.162\n",
      "Predicted: 1.558, Actual: 1.008\n",
      "Predicted: 1.708, Actual: 2.479\n",
      "Predicted: 1.558, Actual: 0.439\n"
     ]
    },
    {
     "name": "stderr",
     "output_type": "stream",
     "text": [
      "/home/aashish/Desktop/AcademicPerformancePrediction/venv_predict/lib/python3.12/site-packages/sklearn/base.py:1473: DataConversionWarning: A column-vector y was passed when a 1d array was expected. Please change the shape of y to (n_samples,), for example using ravel().\n",
      "  return fit_method(estimator, *args, **kwargs)\n",
      "/home/aashish/Desktop/AcademicPerformancePrediction/venv_predict/lib/python3.12/site-packages/sklearn/ensemble/_forest.py:615: UserWarning: Some inputs do not have OOB scores. This probably means too few trees were used to compute any reliable OOB estimates.\n",
      "  warn(\n"
     ]
    }
   ],
   "source": [
    "from sklearn.ensemble import RandomForestRegressor\n",
    "regressor = RandomForestRegressor(n_estimators=10, random_state=0, oob_score=True)\n",
    "regressor.fit(x_train, y_train)\n",
    "\n",
    "y_cv_pred = regressor.predict(x_cv)\n",
    "\n",
    "mse = mean_squared_error(y_cv,y_cv_pred)\n",
    "r2 = r2_score(y_cv,y_cv_pred)\n",
    "score = regressor.score(x_cv,y_cv)\n",
    "\n",
    "print(f'mean square error: {mse}')\n",
    "print(f'r2 score: {r2}')\n",
    "print(f'score: {score}')\n",
    "\n",
    "y_test_pred = regressor.predict(x_test).round(3).clip(0,4)\n",
    "for i in range(5):\n",
    "    print(f\"Predicted: {y_test_pred[i]}, Actual: {y_test['GPA'].iloc[i].round(3)}\")"
   ]
  },
  {
   "cell_type": "markdown",
   "metadata": {},
   "source": [
    "<h1>\n",
    "Decission Tree\n",
    "</h1>"
   ]
  },
  {
   "cell_type": "code",
   "execution_count": 9,
   "metadata": {},
   "outputs": [
    {
     "name": "stdout",
     "output_type": "stream",
     "text": [
      "mean square error: 0.8984717497311145\n",
      "r2 score: -0.008485446219702375\n",
      "score: -0.008485446219702375\n",
      "Predicted: 1.737, Actual: 2.289\n",
      "Predicted: 1.823, Actual: 2.162\n",
      "Predicted: 1.61, Actual: 1.008\n",
      "Predicted: 1.727, Actual: 2.479\n",
      "Predicted: 1.61, Actual: 0.439\n"
     ]
    }
   ],
   "source": [
    "from sklearn.tree import DecisionTreeRegressor\n",
    "decission_regression = DecisionTreeRegressor(max_depth=15)\n",
    "\n",
    "decission_regression.fit(x_train,y_train)\n",
    "\n",
    "y_cv_pred = decission_regression.predict(x_cv)\n",
    "\n",
    "mse = mean_squared_error(y_cv,y_cv_pred)\n",
    "r2 = r2_score(y_cv,y_cv_pred)\n",
    "score = decission_regression.score(x_cv,y_cv)\n",
    "\n",
    "print(f'mean square error: {mse}')\n",
    "print(f'r2 score: {r2}')\n",
    "print(f'score: {score}')\n",
    "\n",
    "y_test_pred = decission_regression.predict(x_test).round(3).clip(0,4)\n",
    "for i in range(5):\n",
    "    print(f\"Predicted: {y_test_pred[i]}, Actual: {y_test['GPA'].iloc[i].round(3)}\")"
   ]
  }
 ],
 "metadata": {
  "kernelspec": {
   "display_name": "venv_predict",
   "language": "python",
   "name": "python3"
  },
  "language_info": {
   "codemirror_mode": {
    "name": "ipython",
    "version": 3
   },
   "file_extension": ".py",
   "mimetype": "text/x-python",
   "name": "python",
   "nbconvert_exporter": "python",
   "pygments_lexer": "ipython3",
   "version": "3.12.3"
  }
 },
 "nbformat": 4,
 "nbformat_minor": 2
}
