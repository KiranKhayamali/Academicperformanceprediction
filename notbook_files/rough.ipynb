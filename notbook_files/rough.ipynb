{
 "cells": [
  {
   "cell_type": "code",
   "execution_count": 1,
   "metadata": {},
   "outputs": [],
   "source": [
    "import numpy as np\n",
    "import pandas as pd\n",
    "import matplotlib.pyplot as plt\n",
    "from sklearn.model_selection import train_test_split\n",
    "import pickle"
   ]
  },
  {
   "cell_type": "code",
   "execution_count": 2,
   "metadata": {},
   "outputs": [
    {
     "name": "stdout",
     "output_type": "stream",
     "text": [
      "   StudentID  Age  Gender  Ethnicity  ParentalEducation  StudyTimeWeekly  \\\n",
      "0       1001   17       1          0                  2        19.833723   \n",
      "1       1002   18       0          0                  1        15.408756   \n",
      "2       1003   15       0          2                  3         4.210570   \n",
      "\n",
      "   Absences  Tutoring  ParentalSupport  Extracurricular  Sports  Music  \\\n",
      "0         7         1                2                0       0      1   \n",
      "1         0         0                1                0       0      0   \n",
      "2        26         0                2                0       0      0   \n",
      "\n",
      "   Volunteering       GPA  GradeClass  \n",
      "0             0  2.929196         2.0  \n",
      "1             0  3.042915         1.0  \n",
      "2             0  0.112602         4.0  \n"
     ]
    }
   ],
   "source": [
    "data = pd.read_csv('../data/Student_performance_data.csv')\n",
    "print(data.head(3))"
   ]
  },
  {
   "cell_type": "code",
   "execution_count": 3,
   "metadata": {},
   "outputs": [
    {
     "data": {
      "text/plain": [
       "\"\\nvariables = ['StudentID','Age','Gender','Ethnicity',\\n    'ParentalEducation','StudyTimeWeekly','Absences',\\n    'Tutoring','ParentalSupport','Extracurricular',\\n    'Sports','Music','Volunteering','GPA','GradeClass']\\n\""
      ]
     },
     "execution_count": 3,
     "metadata": {},
     "output_type": "execute_result"
    }
   ],
   "source": [
    "'''\n",
    "variables = ['StudentID','Age','Gender','Ethnicity',\n",
    "    'ParentalEducation','StudyTimeWeekly','Absences',\n",
    "    'Tutoring','ParentalSupport','Extracurricular',\n",
    "    'Sports','Music','Volunteering','GPA','GradeClass']\n",
    "'''"
   ]
  },
  {
   "cell_type": "code",
   "execution_count": 4,
   "metadata": {},
   "outputs": [],
   "source": [
    "from sklearn.preprocessing import StandardScaler"
   ]
  },
  {
   "cell_type": "code",
   "execution_count": 18,
   "metadata": {},
   "outputs": [
    {
     "name": "stdout",
     "output_type": "stream",
     "text": [
      "   ParentalSupport  StudyTimeWeekly  Tutoring  Absences  GradeClass\n",
      "0                2        19.833723         1         7         2.0\n",
      "1                1        15.408756         0         0         1.0\n",
      "2                2         4.210570         0        26         4.0\n",
      "3                3        10.028829         0        14         3.0\n",
      "4                3         4.672495         1        17         4.0\n",
      "        GPA\n",
      "0  2.929196\n",
      "1  3.042915\n",
      "2  0.112602\n",
      "3  2.054218\n",
      "4  1.288061\n"
     ]
    }
   ],
   "source": [
    "feature = np.array(['ParentalSupport', 'StudyTimeWeekly', 'Tutoring', 'Absences', 'GradeClass'])\n",
    "\n",
    "target = np.array(['GPA'])\n",
    "\n",
    "scaler = StandardScaler()\n",
    "\n",
    "x = data[feature]\n",
    "print(x.head(5))\n",
    "\n",
    "y = data[target]\n",
    "print(y.head(5))"
   ]
  },
  {
   "cell_type": "code",
   "execution_count": 19,
   "metadata": {},
   "outputs": [],
   "source": [
    "#random_state = None gives Random data split everytime executed\n",
    "X,x_test,Y,y_test = train_test_split(x,y,train_size=0.2,random_state= None)"
   ]
  },
  {
   "cell_type": "code",
   "execution_count": 7,
   "metadata": {},
   "outputs": [],
   "source": [
    "# plt.scatter(X,Y)\n",
    "# plt.ylabel('GPA')\n",
    "# plt.xlabel('ParentalSupport')"
   ]
  },
  {
   "cell_type": "markdown",
   "metadata": {},
   "source": [
    "<h1>Linear Regression</h1>"
   ]
  },
  {
   "cell_type": "code",
   "execution_count": 20,
   "metadata": {},
   "outputs": [
    {
     "name": "stdout",
     "output_type": "stream",
     "text": [
      "mean square error: 0.05412842522630044\n",
      "r2 score: 0.9350538204062642\n",
      "score: 0.9350538204062642\n",
      "Predicted: [1.38815762], Actual: 1.1058998695955586\n",
      "Predicted: [3.03754247], Actual: 3.303066678642581\n",
      "Predicted: [1.17457519], Actual: 1.2989979848488324\n",
      "Predicted: [0.68546556], Actual: 0.5166315139842032\n",
      "Predicted: [3.13915737], Actual: 3.0841836144863937\n"
     ]
    }
   ],
   "source": [
    "from sklearn.linear_model import LinearRegression\n",
    "\n",
    "model = LinearRegression()\n",
    "model.fit(X,Y)\n",
    "\n",
    "y_pred = model.predict(x_test)\n",
    "from sklearn.metrics import mean_squared_error,r2_score\n",
    "\n",
    "mse = mean_squared_error(y_test,y_pred)\n",
    "r2 = r2_score(y_test,y_pred)\n",
    "score = model.score(x_test,y_test)\n",
    "\n",
    "print(f'mean square error: {mse}')\n",
    "print(f'r2 score: {r2}')\n",
    "print(f'score: {score}')\n",
    "y_pred2 = model.predict(x_test )\n",
    "for i in range(5):\n",
    "    print(f\"Predicted: {y_pred2[i]}, Actual: {y_test['GPA'].iloc[i]}\")\n"
   ]
  },
  {
   "cell_type": "code",
   "execution_count": 22,
   "metadata": {},
   "outputs": [
    {
     "name": "stdout",
     "output_type": "stream",
     "text": [
      "[[0.9241417]]\n"
     ]
    },
    {
     "name": "stderr",
     "output_type": "stream",
     "text": [
      "d:\\fnclick\\python\\academicperfomanceprediction\\env\\Lib\\site-packages\\sklearn\\base.py:493: UserWarning: X does not have valid feature names, but LinearRegression was fitted with feature names\n",
      "  warnings.warn(\n"
     ]
    }
   ],
   "source": [
    "x = [0, 16.11782338, 0, 22, 4]\n",
    "x = np.array(x).reshape(1, -1)\n",
    "prediction = model.predict(x)\n",
    "print(prediction)"
   ]
  },
  {
   "cell_type": "markdown",
   "metadata": {},
   "source": [
    "<h1>Random Forest</h1>"
   ]
  },
  {
   "cell_type": "code",
   "execution_count": 9,
   "metadata": {},
   "outputs": [
    {
     "name": "stdout",
     "output_type": "stream",
     "text": [
      "mean square error: 1.0850219581362897\n",
      "r2 score: -0.30670024437535504\n",
      "score: -0.30670024437535504\n",
      "Predicted: 1.001, Actual: 1.808\n",
      "Predicted: 1.637, Actual: 2.196\n",
      "Predicted: 1.494, Actual: 3.068\n",
      "Predicted: 1.283, Actual: 1.342\n",
      "Predicted: 0.97, Actual: 0.84\n"
     ]
    },
    {
     "name": "stderr",
     "output_type": "stream",
     "text": [
      "d:\\fnclick\\python\\academicperfomanceprediction\\env\\Lib\\site-packages\\sklearn\\base.py:1473: DataConversionWarning: A column-vector y was passed when a 1d array was expected. Please change the shape of y to (n_samples,), for example using ravel().\n",
      "  return fit_method(estimator, *args, **kwargs)\n",
      "d:\\fnclick\\python\\academicperfomanceprediction\\env\\Lib\\site-packages\\sklearn\\ensemble\\_forest.py:615: UserWarning: Some inputs do not have OOB scores. This probably means too few trees were used to compute any reliable OOB estimates.\n",
      "  warn(\n"
     ]
    }
   ],
   "source": [
    "from sklearn.ensemble import RandomForestRegressor\n",
    "regressor = RandomForestRegressor(n_estimators=10, random_state=0, oob_score=True)\n",
    "regressor.fit(X, Y)\n",
    "\n",
    "y_cv_pred = regressor.predict(x_test)\n",
    "\n",
    "mse = mean_squared_error(y_test,y_cv_pred)\n",
    "r2 = r2_score(y_test,y_cv_pred)\n",
    "score = regressor.score(x_test,y_test)\n",
    "\n",
    "print(f'mean square error: {mse}')\n",
    "print(f'r2 score: {r2}')\n",
    "print(f'score: {score}')\n",
    "\n",
    "y_test_pred = regressor.predict(x_test).round(3).clip(0,4)\n",
    "for i in range(5):\n",
    "    print(f\"Predicted: {y_test_pred[i]}, Actual: {y_test['GPA'].iloc[i].round(3)}\")"
   ]
  },
  {
   "cell_type": "markdown",
   "metadata": {},
   "source": [
    "<h1>\n",
    "Decission Tree\n",
    "</h1>"
   ]
  },
  {
   "cell_type": "code",
   "execution_count": 10,
   "metadata": {},
   "outputs": [
    {
     "name": "stdout",
     "output_type": "stream",
     "text": [
      "mean square error: 1.4144131494714605\n",
      "r2 score: -0.7033885758742577\n",
      "score: -0.7033885758742577\n",
      "Predicted: 1.403, Actual: 1.808\n",
      "Predicted: 2.119, Actual: 2.196\n",
      "Predicted: 1.051, Actual: 3.068\n",
      "Predicted: 1.303, Actual: 1.342\n",
      "Predicted: 1.95, Actual: 0.84\n"
     ]
    }
   ],
   "source": [
    "from sklearn.tree import DecisionTreeRegressor\n",
    "decission_regression = DecisionTreeRegressor(max_depth=15)\n",
    "\n",
    "decission_regression.fit(X,Y)\n",
    "\n",
    "y_cv_pred = decission_regression.predict(x_test)\n",
    "\n",
    "mse = mean_squared_error(y_test,y_cv_pred)\n",
    "r2 = r2_score(y_test,y_cv_pred)\n",
    "score = decission_regression.score(x_test,y_test)\n",
    "\n",
    "print(f'mean square error: {mse}')\n",
    "print(f'r2 score: {r2}')\n",
    "print(f'score: {score}')\n",
    "\n",
    "y_test_pred = decission_regression.predict(x_test).round(3).clip(0,4)\n",
    "for i in range(5):\n",
    "    print(f\"Predicted: {y_test_pred[i]}, Actual: {y_test['GPA'].iloc[i].round(3)}\")"
   ]
  }
 ],
 "metadata": {
  "kernelspec": {
   "display_name": "venv_predict",
   "language": "python",
   "name": "python3"
  },
  "language_info": {
   "codemirror_mode": {
    "name": "ipython",
    "version": 3
   },
   "file_extension": ".py",
   "mimetype": "text/x-python",
   "name": "python",
   "nbconvert_exporter": "python",
   "pygments_lexer": "ipython3",
   "version": "3.12.0"
  }
 },
 "nbformat": 4,
 "nbformat_minor": 2
}
